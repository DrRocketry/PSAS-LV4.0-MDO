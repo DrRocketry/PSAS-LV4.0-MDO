{
 "cells": [
  {
   "cell_type": "code",
   "execution_count": 1,
   "id": "24c0c6b0",
   "metadata": {},
   "outputs": [],
   "source": [
    "%run OpenRocket_Interface.ipynb"
   ]
  },
  {
   "cell_type": "code",
   "execution_count": 2,
   "id": "99b75c21",
   "metadata": {},
   "outputs": [
    {
     "name": "stdout",
     "output_type": "stream",
     "text": [
      "[-2.14689996e-04  1.22471226e-04  3.49119566e+00]\n"
     ]
    }
   ],
   "source": [
    "ipa_wt, of_ratio, p_ch, Tc, MW, gamma, _ = propellant_optimizer(ENG_P_CH)\n",
    "sim = trajectory(False, 0, 0, 0, 0, 0, 0, 0, M_PROP, MDOT, P_E,\n",
    "               THROTTLE_WINDOW, MIN_THROTTLE,\n",
    "               RCS_MDOT, RCS_P_E, RCS_P_CH,\n",
    "               BALLAST, FIN_ROOT, FIN_TIP, FIN_SWEEP_ANGLE, FIN_SEMISPAN, FIN_THICKNESS, CON_NOSE_L,\n",
    "                LOX_TANK_P, IPA_TANK_P, RIB_T, NUM_RADL_DVSNS,\n",
    "               AIRFRM_IN_RAD, ipa_wt, of_ratio, ENG_P_CH, Tc, gamma, MW,\n",
    "               [0, 0, AZ_PERTURB, EL_PERTURB, True, 0, 0, 0, 0, 0, 0, True], \n",
    "                          0.025, False, 0.045, False, False)\n",
    "\n",
    "rocket = sim.LV4"
   ]
  }
 ],
 "metadata": {
  "kernelspec": {
   "display_name": "Python 3 (ipykernel)",
   "language": "python",
   "name": "python3"
  },
  "language_info": {
   "codemirror_mode": {
    "name": "ipython",
    "version": 3
   },
   "file_extension": ".py",
   "mimetype": "text/x-python",
   "name": "python",
   "nbconvert_exporter": "python",
   "pygments_lexer": "ipython3",
   "version": "3.7.11"
  }
 },
 "nbformat": 4,
 "nbformat_minor": 5
}
